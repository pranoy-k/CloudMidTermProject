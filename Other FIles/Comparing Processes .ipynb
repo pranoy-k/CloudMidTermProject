{
 "cells": [
  {
   "cell_type": "code",
   "execution_count": 3,
   "metadata": {},
   "outputs": [
    {
     "name": "stdout",
     "output_type": "stream",
     "text": [
      "There are 4 CPUs on this machine\n"
     ]
    },
    {
     "data": {
      "image/png": "[encoded data removed]",
      "text/plain": [
       "<matplotlib.figure.Figure at 0x1a2a166b38>"
      ]
     },
     "metadata": {},
     "output_type": "display_data"
    }
   ],
   "source": [
    "%matplotlib inline\n",
    "import multiprocessing  # the module we will be using for multiprocessing\n",
    "import numpy as np\n",
    "import pandas as pd\n",
    "import time\n",
    "from itertools import repeat\n",
    "import matplotlib.pyplot as plt\n",
    "import seaborn as sns\n",
    "\n",
    "sns.set_style(\"white\")\n",
    "\n",
    "\n",
    "def work(task):\n",
    "    \"\"\"\n",
    "    Some amount of work that will take time\n",
    "    \n",
    "    Parameters\n",
    "    ----------\n",
    "    task : tuple\n",
    "        Contains number, loop, and number processors\n",
    "    \"\"\"\n",
    "    number, loop = task\n",
    "    b = 2. * number - 1.\n",
    "    for i in range(loop):\n",
    "        a, b = b * i, number * i + b\n",
    "    return a, b\n",
    "\n",
    "def plot(multip_stats):\n",
    "    \"\"\"\n",
    "    plots times from multiprocessing\n",
    "    \n",
    "    Parameters\n",
    "    ----------\n",
    "    multip_stats : dictionary\n",
    "        dictionary containing time running\n",
    "    \"\"\"\n",
    "    serial_time = multip_stats[1].mean()\n",
    "    keys = list(multip_stats.keys())\n",
    "    keys.sort()\n",
    "    keys = np.array(keys)\n",
    "    speedup = []\n",
    "    efficiency = []\n",
    "    for number_processes in keys:\n",
    "        speedup.append(serial_time / multip_stats[number_processes].mean())\n",
    "        efficiency.append(speedup[-1] / number_processes)\n",
    "    fig = plt.figure(figsize=(6, 6))\n",
    "    ax = fig.add_subplot(211)\n",
    "    plt.plot(keys, keys)\n",
    "    plt.bar(keys-0.5, speedup, width=1)\n",
    "    plt.ylabel('Speedup')\n",
    "    ax.set_xticks(range(1, keys[-1] + 1))\n",
    "    ax.set_xticklabels([])\n",
    "    plt.xlim(0.5, keys[-1] + .5)\n",
    "    \n",
    "    ax = fig.add_subplot(212)\n",
    "    plt.bar(keys-0.5, efficiency, width=1)\n",
    "    plt.ylabel('Efficiency')\n",
    "    plt.xlabel('Number of processes')\n",
    "    ax.set_xticks(range(1, keys[-1] + 1))\n",
    "    ax.set_xticklabels(range(1, keys[-1] + 1))\n",
    "    plt.xlim(0.5, keys[-1] + .5)\n",
    "    plt.savefig(\"./parallel_speedup_efficiency.png\")\n",
    "\n",
    "if __name__ == \"__main__\":\n",
    "    cpu_count = multiprocessing.cpu_count()\n",
    "    print(\"There are %d CPUs on this machine\" % cpu_count)\n",
    "    number_processes = range(1, cpu_count * 2 + 1)\n",
    "    loop = 1000\n",
    "    total_tasks = 1000\n",
    "    tasks = np.float_(range(1, total_tasks))\n",
    "    number_of_times_to_repeat = 20\n",
    "    multip_stats = {}\n",
    "    for number in number_processes:\n",
    "        multip_stats[number] = np.empty(number_of_times_to_repeat)\n",
    "        for i in range(number_of_times_to_repeat):\n",
    "            pool = multiprocessing.Pool(number)\n",
    "            start_time = time.time()\n",
    "            results = pool.map_async(work, zip(tasks, repeat(loop)))\n",
    "            pool.close()\n",
    "            pool.join()\n",
    "            end_time = time.time()\n",
    "            multip_stats[number][i] = end_time - start_time\n",
    "    plot(multip_stats)"
   ]
  },
  {
   "cell_type": "code",
   "execution_count": 5,
   "metadata": {},
   "outputs": [],
   "source": [
    "import time\n",
    "time.time?"
   ]
  }
 ],
 "metadata": {
  "kernelspec": {
   "display_name": "Python 3",
   "language": "python",
   "name": "python3"
  }
 },
 "nbformat": 4,
 "nbformat_minor": 2
}
